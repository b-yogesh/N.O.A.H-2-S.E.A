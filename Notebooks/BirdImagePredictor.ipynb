{
  "nbformat": 4,
  "nbformat_minor": 0,
  "metadata": {
    "colab": {
      "name": "BirdImagePredictor.ipynb",
      "provenance": []
    },
    "kernelspec": {
      "name": "python3",
      "display_name": "Python 3"
    }
  },
  "cells": [
    {
      "cell_type": "markdown",
      "metadata": {
        "id": "BufWbIdLVN2X"
      },
      "source": [
        "Inspired from https://github.com/ecm200/caltech_birds for ZooHackathon Europe 2020"
      ]
    },
    {
      "cell_type": "code",
      "metadata": {
        "id": "W-DP1jaoTiPe"
      },
      "source": [
        "import torchvision.transforms as transforms\n",
        "import os\n",
        "import torch"
      ],
      "execution_count": 12,
      "outputs": []
    },
    {
      "cell_type": "code",
      "metadata": {
        "id": "6CGxdV5cUv7C"
      },
      "source": [
        "root_dir = '/content/drive/My Drive/ZooHackathon/CUB_200_2011/CUB_200_2011/'\n",
        "model_file = os.path.join(root_dir, 'trainedModel.pth')\n",
        "trainedModel = torch.load(model_file, map_location=torch.device('cpu'))"
      ],
      "execution_count": 19,
      "outputs": []
    },
    {
      "cell_type": "code",
      "metadata": {
        "id": "Adr9KhWKUJLI"
      },
      "source": [
        "from PIL import Image \n",
        "test_img = Image.open('/content/drive/My Drive/ZooHackathon/CUB_200_2011/CUB_200_2011/new_images/test/004.Groove_billed_Ani/Groove_Billed_Ani_0078_1780.jpg')"
      ],
      "execution_count": 15,
      "outputs": []
    },
    {
      "cell_type": "code",
      "metadata": {
        "id": "qp9zH95iUOHh"
      },
      "source": [
        "def run_prediction(input):\n",
        "  input = preprocess(input).unsqueeze_(0)\n",
        "  trainedModel.eval()\n",
        "  input = input\n",
        "  outputs = trainedModel(input)\n",
        "  _, preds = torch.max(outputs, 1)\n",
        "  p = preds.cpu().numpy()\n",
        "  return p"
      ],
      "execution_count": 17,
      "outputs": []
    },
    {
      "cell_type": "code",
      "metadata": {
        "id": "RlbYggueUmCF"
      },
      "source": [
        "preprocess = transforms.Compose([\n",
        "            transforms.Resize(256),\n",
        "            transforms.CenterCrop(224),\n",
        "            transforms.ToTensor(),\n",
        "            transforms.Normalize([0.5, 0.5, 0.5], [0.5, 0.5, 0.5])\n",
        "        ])"
      ],
      "execution_count": 8,
      "outputs": []
    },
    {
      "cell_type": "code",
      "metadata": {
        "id": "jiXZYL19UU2b",
        "outputId": "11469c43-2477-431f-9e8b-06c5a75039df",
        "colab": {
          "base_uri": "https://localhost:8080/"
        }
      },
      "source": [
        "run_prediction(test_img)"
      ],
      "execution_count": 18,
      "outputs": [
        {
          "output_type": "execute_result",
          "data": {
            "text/plain": [
              "array([3])"
            ]
          },
          "metadata": {
            "tags": []
          },
          "execution_count": 18
        }
      ]
    },
    {
      "cell_type": "code",
      "metadata": {
        "id": "jxKTdf4zUi2j"
      },
      "source": [
        ""
      ],
      "execution_count": null,
      "outputs": []
    }
  ]
}